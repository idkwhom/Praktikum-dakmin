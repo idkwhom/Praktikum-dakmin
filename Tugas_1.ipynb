{
  "nbformat": 4,
  "nbformat_minor": 0,
  "metadata": {
    "colab": {
      "provenance": [],
      "authorship_tag": "ABX9TyMopFOugnowuUXmioTPTR6D",
      "include_colab_link": true
    },
    "kernelspec": {
      "name": "python3",
      "display_name": "Python 3"
    },
    "language_info": {
      "name": "python"
    }
  },
  "cells": [
    {
      "cell_type": "markdown",
      "metadata": {
        "id": "view-in-github",
        "colab_type": "text"
      },
      "source": [
        "<a href=\"https://colab.research.google.com/github/idkwhom/Praktikum-dakmin/blob/main/Tugas_1.ipynb\" target=\"_parent\"><img src=\"https://colab.research.google.com/assets/colab-badge.svg\" alt=\"Open In Colab\"/></a>"
      ]
    },
    {
      "cell_type": "markdown",
      "source": [
        "#Preferensi Makanan orang dari seluruh penjuru dunia"
      ],
      "metadata": {
        "id": "8YiaY4bF3bsP"
      }
    },
    {
      "cell_type": "markdown",
      "source": [
        "####Business Understanding"
      ],
      "metadata": {
        "id": "c7rc2m885bng"
      }
    },
    {
      "cell_type": "markdown",
      "source": [
        "###Bisnis Objective\n",
        "Tujuan dataset ini untuk mengetahui dari berbagai manusia dari penjuru dunia untuk pengebangan produk yang bisa disukai banyak orang,hal ini dapat di capai dengan memahami dengan mengetahui apa yang disukai oleh manusia dari penjuru dunia\n",
        "\n",
        "###Assess Situation\n",
        "Situasi bisnis ini dilakukan untuk mendapatkan produk yang disukai banyak orang dari seluruh dunia\n",
        "\n",
        "###Data Mining Goals\n",
        "Tujuan diadakan dataset ini untuk mendaptkan produk yang disukai banyak orang dari seluruh dunia\n",
        "\n",
        "###Project Plan\n",
        "Rencana proyek untuk mengalisa dataset ini dengan cara\n",
        "\n",
        "-pengumpulan data:\n",
        "\n",
        "Survei online: Diterjemahkan ke berbagai bahasa dan disebarluaskan secara global.\n",
        "\n",
        "Wawancara mendalam: Dilakukan dengan penduduk lokal di berbagai wilayah.\n",
        "\n",
        "-Analisis Data:\n",
        "\n",
        "Analisis statistik: Mengidentifikasi pola dan tren dalam preferensi makanan.\n",
        "\n",
        "Analisis kualitatif: Memahami makna dan konteks di balik preferensi makanan.\n",
        "\n",
        "Penyajian Data:\n",
        "\n",
        "Laporan: Menyajikan hasil penelitian dan analisis"
      ],
      "metadata": {
        "id": "-ExGABKB5tsB"
      }
    }
  ]
}